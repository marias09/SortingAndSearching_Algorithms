{
  "nbformat": 4,
  "nbformat_minor": 0,
  "metadata": {
    "colab": {
      "provenance": [],
      "authorship_tag": "ABX9TyPp/1vjwN9s6LDjNeFU+3zP",
      "include_colab_link": true
    },
    "kernelspec": {
      "name": "python3",
      "display_name": "Python 3"
    },
    "language_info": {
      "name": "python"
    }
  },
  "cells": [
    {
      "cell_type": "markdown",
      "metadata": {
        "id": "view-in-github",
        "colab_type": "text"
      },
      "source": [
        "<a href=\"https://colab.research.google.com/github/marias09/SortingAndSearching_Algorithms/blob/main/AlgorithmsPerformanceEvaluator.ipynb\" target=\"_parent\"><img src=\"https://colab.research.google.com/assets/colab-badge.svg\" alt=\"Open In Colab\"/></a>"
      ]
    },
    {
      "cell_type": "code",
      "source": [
        "\"\"\"Performance Evaluator for Sorting and Searching Algorithms\n",
        "by Mauricio Arias-Correa\n",
        "https://www.researchgate.net/profile/Mauricio-Correa-8\n",
        "\n",
        "Created as a support for the Data Structures Course\"\"\"\n",
        "\n",
        "import time\n",
        "import sys\n",
        "import random\n",
        "\n",
        "# Function to compute the memory usage of an object in bytes.\n",
        "def memory_usage(obj):\n",
        "    \"\"\"Returns the size of an object in bytes.\"\"\"\n",
        "    return sys.getsizeof(obj)\n",
        "\n",
        "# Function for Linear Search.\n",
        "def linear_search(arr, x):\n",
        "    \"\"\"Performs a linear search for an element x in a list arr.\n",
        "    Returns the index of the element if found, otherwise returns -1.\"\"\"\n",
        "    for i in range(len(arr)):\n",
        "        if arr[i] == x:\n",
        "            return i\n",
        "    return -1\n",
        "\n",
        "# Function for binary search.\n",
        "def binary_search(arr, x):\n",
        "    \"\"\"Performs a binary search for an element x in an ordered list arr.\n",
        "    Returns the index of the element if found, otherwise returns -1.\"\"\"\n",
        "    low = 0\n",
        "    high = len(arr) - 1\n",
        "    mid = 0\n",
        "    while low <= high:\n",
        "        mid = (high + low) // 2\n",
        "        if arr[mid] < x:\n",
        "            low = mid + 1\n",
        "        elif arr[mid] > x:\n",
        "            high = mid - 1\n",
        "        else:\n",
        "            return mid\n",
        "    return -1\n",
        "\n",
        "# Add here your Function for bubble sort.\n",
        "\n",
        "\n",
        "# Function for insertion sort\n",
        "def insertion_sort(arr):\n",
        "    \"\"\"Sorts an array list using the insertion sort method.\"\"\"\n",
        "    for i in range(1, len(arr)):\n",
        "        key = arr[i]\n",
        "        j = i-1\n",
        "        while j >=0 and key < arr[j]:\n",
        "            arr[j+1] = arr[j]\n",
        "            j -= 1\n",
        "        arr[j+1] = key\n",
        "\n",
        "# Function to evaluate algorithms with measurement of time and memory usage.\n",
        "def evaluate_algorithm(algorithm, data, *args):\n",
        "    \"\"\"Evaluates an algorithm, measuring execution time and memory used.\n",
        "    Returns the result of the algorithm, the time taken and memory used\"\"\"\n",
        "    start_time = time.time()\n",
        "    result = algorithm(data, *args)\n",
        "    end_time = time.time()\n",
        "    memory = memory_usage(data)\n",
        "    return result, end_time - start_time, memory\n",
        "\n",
        "# *********   Data generator  *************************************************\n",
        "# You can create a list in Python this way:  random.randint(0, 100) will be\n",
        "#  evaluated 1000 times by for loop, and every value wil be added to the list.\n",
        "data = [random.randint(0, 100) for _ in range(1000)]\n",
        "sorted_data = sorted(data)\n",
        "\n",
        "# Evaluating algorithms and printing results.\n",
        "print(\"Evaluating Linear Search...\")\n",
        "_, time_taken, memory_used = evaluate_algorithm(linear_search, data, 50)\n",
        "print(f\"Time: {time_taken} seconds, Memory: {memory_used} bytes\")\n",
        "\n",
        "print(\"Evaluating Binary Search...\")\n",
        "_, time_taken, memory_used = evaluate_algorithm(binary_search, sorted_data, 50)\n",
        "print(f\"Time: {time_taken} seconds, Memory: {memory_used} bytes\")\n",
        "\n",
        "print(\"Evaluating Bubble Sort...\")\n",
        "#...add here your solution for bubble sort...\n",
        "\n",
        "print(\"Evaluating Insertion Sort...\")\n",
        "_, time_taken, memory_used = evaluate_algorithm(insertion_sort, data.copy())\n",
        "print(f\"Time: {time_taken} seconds, Memory: {memory_used} bytes\")\n"
      ],
      "metadata": {
        "id": "V12m9bxYvAih"
      },
      "execution_count": null,
      "outputs": []
    }
  ]
}